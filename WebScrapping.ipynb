{
  "nbformat": 4,
  "nbformat_minor": 0,
  "metadata": {
    "kernelspec": {
      "display_name": "Python 3",
      "language": "python",
      "name": "python3"
    },
    "language_info": {
      "codemirror_mode": {
        "name": "ipython",
        "version": 3
      },
      "file_extension": ".py",
      "mimetype": "text/x-python",
      "name": "python",
      "nbconvert_exporter": "python",
      "pygments_lexer": "ipython3",
      "version": "3.8.3"
    },
    "colab": {
      "name": "WebScrapping.ipynb",
      "provenance": [],
      "collapsed_sections": []
    }
  },
  "cells": [
    {
      "cell_type": "code",
      "metadata": {
        "id": "EQ9fLZ5ob-8C"
      },
      "source": [
        "import requests, re\n",
        "from bs4 import BeautifulSoup\n",
        "import pandas as pd\n",
        "import math"
      ],
      "execution_count": 1,
      "outputs": []
    },
    {
      "cell_type": "markdown",
      "metadata": {
        "id": "HVBC1GPyb-8P"
      },
      "source": [
        "## step 1: use request to extract the content of the website"
      ]
    },
    {
      "cell_type": "code",
      "metadata": {
        "id": "0QrlVi9Hb-8U"
      },
      "source": [
        "r=requests.get(\"https://nigeriapropertycentre.com/for-rent?keywords=yaba&page=1\")\n",
        "c=r.content"
      ],
      "execution_count": 2,
      "outputs": []
    },
    {
      "cell_type": "code",
      "metadata": {
        "id": "AqS_gTmvb-8W"
      },
      "source": [
        "# c"
      ],
      "execution_count": null,
      "outputs": []
    },
    {
      "cell_type": "markdown",
      "metadata": {
        "id": "b8pXGvnzb-8Y"
      },
      "source": [
        "## step2: perse the content to beautiful soup"
      ]
    },
    {
      "cell_type": "code",
      "metadata": {
        "id": "77oY7RhNb-8a"
      },
      "source": [
        "soup=BeautifulSoup(c,\"html.parser\")"
      ],
      "execution_count": 3,
      "outputs": []
    },
    {
      "cell_type": "code",
      "metadata": {
        "id": "SjucwV-Ob-8c"
      },
      "source": [
        "real=soup.find_all(\"div\",{\"class\":\"wp-block-footer\"})"
      ],
      "execution_count": 4,
      "outputs": []
    },
    {
      "cell_type": "code",
      "metadata": {
        "colab": {
          "base_uri": "https://localhost:8080/",
          "height": 35
        },
        "id": "6x0r41TVb-8f",
        "outputId": "943b68e2-56b5-4e1c-a945-5585f831773c"
      },
      "source": [
        "real[0].get_text()"
      ],
      "execution_count": 5,
      "outputs": [
        {
          "output_type": "execute_result",
          "data": {
            "application/vnd.google.colaboratory.intrinsic+json": {
              "type": "string"
            },
            "text/plain": [
              "'\\n\\xa0 Save'"
            ]
          },
          "metadata": {},
          "execution_count": 5
        }
      ]
    },
    {
      "cell_type": "code",
      "metadata": {
        "id": "sObuSJbsd5GK"
      },
      "source": [
        ""
      ],
      "execution_count": null,
      "outputs": []
    },
    {
      "cell_type": "code",
      "metadata": {
        "colab": {
          "base_uri": "https://localhost:8080/"
        },
        "id": "9_T2MaRGb-8k",
        "outputId": "4eb25e3f-ae24-4a50-b8a8-18ff7e0fc4a7"
      },
      "source": [
        "re.findall(\"..Bathrooms\",real[1].get_text().strip())#[0][0]"
      ],
      "execution_count": 7,
      "outputs": [
        {
          "output_type": "execute_result",
          "data": {
            "text/plain": [
              "['2 Bathrooms']"
            ]
          },
          "metadata": {},
          "execution_count": 7
        }
      ]
    },
    {
      "cell_type": "code",
      "metadata": {
        "id": "14VfNwlyb-8o"
      },
      "source": [
        "example = \"there are 2 guys wearing cap in this class\""
      ],
      "execution_count": null,
      "outputs": []
    },
    {
      "cell_type": "code",
      "metadata": {
        "id": "zvx5ne9Zb-8r",
        "outputId": "020ef44e-4de9-4122-cd31-d932b1225608"
      },
      "source": [
        "re.findall(\"....guys\", example)"
      ],
      "execution_count": null,
      "outputs": [
        {
          "data": {
            "text/plain": [
              "['e 2 guys']"
            ]
          },
          "execution_count": 46,
          "metadata": {},
          "output_type": "execute_result"
        }
      ]
    },
    {
      "cell_type": "code",
      "metadata": {
        "id": "e__EqDp_b-8t"
      },
      "source": [
        "card_n = soup.find_all(\"div\", {\"class\":\"col-sm-8 col-xs-12\"})[0].text.strip().split(\" \")[3]\n",
        "card_t = soup.find_all(\"div\", {\"class\":\"col-sm-8 col-xs-12\"})[0].text.strip().split(\" \")[5]"
      ],
      "execution_count": 8,
      "outputs": []
    },
    {
      "cell_type": "code",
      "metadata": {
        "colab": {
          "base_uri": "https://localhost:8080/"
        },
        "id": "MlLDrEAIb-8v",
        "outputId": "87c1aefc-4e26-4c75-a6c7-133eb07c49a5"
      },
      "source": [
        "num_pages = math.ceil(int(card_t)/int(card_n))\n",
        "num_pages"
      ],
      "execution_count": 9,
      "outputs": [
        {
          "output_type": "execute_result",
          "data": {
            "text/plain": [
              "10"
            ]
          },
          "metadata": {},
          "execution_count": 9
        }
      ]
    },
    {
      "cell_type": "code",
      "metadata": {
        "id": "4pX8b9i7b-8x"
      },
      "source": [
        ""
      ],
      "execution_count": null,
      "outputs": []
    },
    {
      "cell_type": "markdown",
      "metadata": {
        "id": "nUAgM6Epb-8y"
      },
      "source": [
        "# START"
      ]
    },
    {
      "cell_type": "code",
      "metadata": {
        "id": "Fz-c2rNgb-8z",
        "outputId": "87867e6d-fe69-4c3c-f7d2-544ab5ff5905"
      },
      "source": [
        ""
      ],
      "execution_count": null,
      "outputs": [
        {
          "data": {
            "text/plain": [
              "10"
            ]
          },
          "execution_count": 80,
          "metadata": {},
          "output_type": "execute_result"
        }
      ]
    },
    {
      "cell_type": "code",
      "metadata": {
        "id": "eUY0g5c_b-80"
      },
      "source": [
        " locations = [\"yaba\", \"ogba\", \"iyana+ipaja\", \"surulere\", \"gbagada\", \"ikeja\", \"lekki\", \"ajah\", \"ikorodu\"]\n",
        "# locations = [\"yaba\"]"
      ],
      "execution_count": 11,
      "outputs": []
    },
    {
      "cell_type": "code",
      "metadata": {
        "id": "vIX8K8Npb-82"
      },
      "source": [
        ""
      ],
      "execution_count": null,
      "outputs": []
    },
    {
      "cell_type": "code",
      "metadata": {
        "scrolled": true,
        "colab": {
          "base_uri": "https://localhost:8080/"
        },
        "id": "P1HhrBsXb-83",
        "outputId": "3e3e6d49-d5d0-45c6-92d3-970e19bf94a2"
      },
      "source": [
        "output_dict = {\"title\":[],\n",
        "               \"location\":[],\n",
        "               \"desc\":[],\n",
        "               \"price\":[],\n",
        "               \"bath\":[],\n",
        "               \"bed\":[],\n",
        "               \"toilet\":[],\n",
        "               \"area\":[]}\n",
        "\n",
        "for location in locations:\n",
        "    r=requests.get(f\"https://nigeriapropertycentre.com/for-rent?keywords={location}&page=1\")\n",
        "    c=r.content\n",
        "\n",
        "    soup=BeautifulSoup(c,\"html.parser\")\n",
        "\n",
        "    card_n = soup.find_all(\"div\", {\"class\":\"col-sm-8 col-xs-12\"})[0].text.strip().split(\" \")[3]\n",
        "    card_t = soup.find_all(\"div\", {\"class\":\"col-sm-8 col-xs-12\"})[0].text.strip().split(\" \")[5]\n",
        "    try:\n",
        "        card_n = int(card_n.replace(\",\",\"\"))\n",
        "        card_t = int(card_t.replace(\",\",\"\"))\n",
        "    except:\n",
        "        pass\n",
        "    \n",
        "    num_pages = math.ceil(int(card_t)/int(card_n))\n",
        "#     num_pages\n",
        "    print(\"\\n\")\n",
        "    print(f\"{location.upper()} has {num_pages} pages\")\n",
        "    \n",
        "    for page_n in range(1, num_pages+1):\n",
        "        url = f\"www.nigeriapropertycentre.com/for-rent?keywords={location}&page={page_n}\"\n",
        "        r = requests.get(\"http://\"+url)\n",
        "        c=r.content\n",
        "        \n",
        "        soup=BeautifulSoup(c,\"html.parser\")\n",
        "        \n",
        "        #get data for title\n",
        "        title_list = soup.find_all(\"h4\", {\"class\":\"content-title\"})\n",
        "        for i in range(len(title_list)):\n",
        "            try:\n",
        "                output_dict[\"title\"].append(title_list[i].text.strip())\n",
        "            except:\n",
        "                output_dict[\"title\"].append(\"\")\n",
        "        #get data for location\n",
        "        location_list = soup.find_all(\"address\", {\"class\":\"voffset-bottom-10\"})\n",
        "        for i in range(len(location_list)):\n",
        "            try:\n",
        "                output_dict[\"location\"].append(location_list[i].text.strip())\n",
        "            except:\n",
        "                output_dict[\"location\"].append(\"\")\n",
        "        #get data for description\n",
        "        description_list = soup.find_all(\"div\", {\"class\":\"description hidden-xs\"})\n",
        "        for i in range(len(description_list)):\n",
        "            try:\n",
        "                output_dict[\"desc\"].append(description_list[i].find(\"p\").text.strip().replace(\"\\n\",\"\"))\n",
        "            except:\n",
        "                output_dict[\"desc\"].append(\"\")\n",
        "        #get data for price\n",
        "        price_list = soup.find_all(\"span\", {\"class\":\"pull-sm-left\"})\n",
        "        for i in range(len(price_list)):\n",
        "            try:\n",
        "                output_dict[\"price\"].append(price_list[i].text.strip().split(\" \")[0].replace(\"₦\",\"\").replace(\",\",\"\"))\n",
        "            except:\n",
        "                output_dict[\"price\"].append(\"\")\n",
        "        #get bath for bedroom\n",
        "        bed_list = soup.find_all(\"ul\", {\"class\":\"aux-info\"})\n",
        "        for i in range(len(bed_list)):\n",
        "            try:\n",
        "                output_dict[\"bed\"].append(re.findall(\"..Bedrooms\", bed_list[i].text)[0])\n",
        "            except:\n",
        "                output_dict[\"bed\"].append(\"\")\n",
        "        #get bath for bath\n",
        "        bath_list = soup.find_all(\"ul\", {\"class\":\"aux-info\"})\n",
        "        for i in range(len(bath_list)):\n",
        "            try:\n",
        "                output_dict[\"bath\"].append(re.findall(\"..Bathrooms\", bath_list[i].text)[0])\n",
        "            except:\n",
        "                output_dict[\"bath\"].append(\"\")\n",
        "        #get bath for toilet\n",
        "        toilet_list = soup.find_all(\"ul\", {\"class\":\"aux-info\"})\n",
        "        for i in range(len(toilet_list)):\n",
        "            try:\n",
        "                output_dict[\"toilet\"].append(re.findall(\"..Toilets\", toilet_list[i].text)[0])\n",
        "            except:\n",
        "                output_dict[\"toilet\"].append(\"\")\n",
        "        for i in range(len(location_list)):\n",
        "            output_dict[\"area\"].append(location)\n",
        "        \n",
        "        #Giving update about scraping\n",
        "        print(f\"{location.upper()} page {page_n} done\")\n",
        "        \n",
        "        \n",
        "        \n",
        "#         break\n",
        "#     break"
      ],
      "execution_count": 12,
      "outputs": [
        {
          "output_type": "stream",
          "name": "stdout",
          "text": [
            "\n",
            "\n",
            "YABA has 10 pages\n",
            "YABA page 1 done\n",
            "YABA page 2 done\n",
            "YABA page 3 done\n",
            "YABA page 4 done\n",
            "YABA page 5 done\n",
            "YABA page 6 done\n",
            "YABA page 7 done\n",
            "YABA page 8 done\n",
            "YABA page 9 done\n",
            "YABA page 10 done\n",
            "\n",
            "\n",
            "OGBA has 5 pages\n",
            "OGBA page 1 done\n",
            "OGBA page 2 done\n",
            "OGBA page 3 done\n",
            "OGBA page 4 done\n",
            "OGBA page 5 done\n",
            "\n",
            "\n",
            "IYANA+IPAJA has 1 pages\n",
            "IYANA+IPAJA page 1 done\n",
            "\n",
            "\n",
            "SURULERE has 14 pages\n",
            "SURULERE page 1 done\n",
            "SURULERE page 2 done\n",
            "SURULERE page 3 done\n",
            "SURULERE page 4 done\n",
            "SURULERE page 5 done\n",
            "SURULERE page 6 done\n",
            "SURULERE page 7 done\n",
            "SURULERE page 8 done\n",
            "SURULERE page 9 done\n",
            "SURULERE page 10 done\n",
            "SURULERE page 11 done\n",
            "SURULERE page 12 done\n",
            "SURULERE page 13 done\n",
            "SURULERE page 14 done\n",
            "\n",
            "\n",
            "GBAGADA has 8 pages\n",
            "GBAGADA page 1 done\n",
            "GBAGADA page 2 done\n",
            "GBAGADA page 3 done\n",
            "GBAGADA page 4 done\n",
            "GBAGADA page 5 done\n",
            "GBAGADA page 6 done\n",
            "GBAGADA page 7 done\n",
            "GBAGADA page 8 done\n",
            "\n",
            "\n",
            "IKEJA has 24 pages\n",
            "IKEJA page 1 done\n",
            "IKEJA page 2 done\n",
            "IKEJA page 3 done\n",
            "IKEJA page 4 done\n",
            "IKEJA page 5 done\n",
            "IKEJA page 6 done\n",
            "IKEJA page 7 done\n",
            "IKEJA page 8 done\n",
            "IKEJA page 9 done\n",
            "IKEJA page 10 done\n",
            "IKEJA page 11 done\n",
            "IKEJA page 12 done\n",
            "IKEJA page 13 done\n",
            "IKEJA page 14 done\n",
            "IKEJA page 15 done\n",
            "IKEJA page 16 done\n",
            "IKEJA page 17 done\n",
            "IKEJA page 18 done\n",
            "IKEJA page 19 done\n",
            "IKEJA page 20 done\n",
            "IKEJA page 21 done\n",
            "IKEJA page 22 done\n",
            "IKEJA page 23 done\n",
            "IKEJA page 24 done\n",
            "\n",
            "\n",
            "LEKKI has 134 pages\n",
            "LEKKI page 1 done\n",
            "LEKKI page 2 done\n",
            "LEKKI page 3 done\n",
            "LEKKI page 4 done\n",
            "LEKKI page 5 done\n",
            "LEKKI page 6 done\n",
            "LEKKI page 7 done\n",
            "LEKKI page 8 done\n",
            "LEKKI page 9 done\n",
            "LEKKI page 10 done\n",
            "LEKKI page 11 done\n",
            "LEKKI page 12 done\n",
            "LEKKI page 13 done\n",
            "LEKKI page 14 done\n",
            "LEKKI page 15 done\n",
            "LEKKI page 16 done\n",
            "LEKKI page 17 done\n",
            "LEKKI page 18 done\n",
            "LEKKI page 19 done\n",
            "LEKKI page 20 done\n",
            "LEKKI page 21 done\n",
            "LEKKI page 22 done\n",
            "LEKKI page 23 done\n",
            "LEKKI page 24 done\n",
            "LEKKI page 25 done\n",
            "LEKKI page 26 done\n",
            "LEKKI page 27 done\n",
            "LEKKI page 28 done\n",
            "LEKKI page 29 done\n",
            "LEKKI page 30 done\n",
            "LEKKI page 31 done\n",
            "LEKKI page 32 done\n",
            "LEKKI page 33 done\n",
            "LEKKI page 34 done\n",
            "LEKKI page 35 done\n",
            "LEKKI page 36 done\n",
            "LEKKI page 37 done\n",
            "LEKKI page 38 done\n",
            "LEKKI page 39 done\n",
            "LEKKI page 40 done\n",
            "LEKKI page 41 done\n",
            "LEKKI page 42 done\n",
            "LEKKI page 43 done\n",
            "LEKKI page 44 done\n",
            "LEKKI page 45 done\n",
            "LEKKI page 46 done\n",
            "LEKKI page 47 done\n",
            "LEKKI page 48 done\n",
            "LEKKI page 49 done\n",
            "LEKKI page 50 done\n",
            "LEKKI page 51 done\n",
            "LEKKI page 52 done\n",
            "LEKKI page 53 done\n",
            "LEKKI page 54 done\n",
            "LEKKI page 55 done\n",
            "LEKKI page 56 done\n",
            "LEKKI page 57 done\n",
            "LEKKI page 58 done\n",
            "LEKKI page 59 done\n",
            "LEKKI page 60 done\n",
            "LEKKI page 61 done\n",
            "LEKKI page 62 done\n",
            "LEKKI page 63 done\n",
            "LEKKI page 64 done\n",
            "LEKKI page 65 done\n",
            "LEKKI page 66 done\n",
            "LEKKI page 67 done\n",
            "LEKKI page 68 done\n",
            "LEKKI page 69 done\n",
            "LEKKI page 70 done\n",
            "LEKKI page 71 done\n",
            "LEKKI page 72 done\n",
            "LEKKI page 73 done\n",
            "LEKKI page 74 done\n",
            "LEKKI page 75 done\n",
            "LEKKI page 76 done\n",
            "LEKKI page 77 done\n",
            "LEKKI page 78 done\n",
            "LEKKI page 79 done\n",
            "LEKKI page 80 done\n",
            "LEKKI page 81 done\n",
            "LEKKI page 82 done\n",
            "LEKKI page 83 done\n",
            "LEKKI page 84 done\n",
            "LEKKI page 85 done\n",
            "LEKKI page 86 done\n",
            "LEKKI page 87 done\n",
            "LEKKI page 88 done\n",
            "LEKKI page 89 done\n",
            "LEKKI page 90 done\n",
            "LEKKI page 91 done\n",
            "LEKKI page 92 done\n",
            "LEKKI page 93 done\n",
            "LEKKI page 94 done\n",
            "LEKKI page 95 done\n",
            "LEKKI page 96 done\n",
            "LEKKI page 97 done\n",
            "LEKKI page 98 done\n",
            "LEKKI page 99 done\n",
            "LEKKI page 100 done\n",
            "LEKKI page 101 done\n",
            "LEKKI page 102 done\n",
            "LEKKI page 103 done\n",
            "LEKKI page 104 done\n",
            "LEKKI page 105 done\n",
            "LEKKI page 106 done\n",
            "LEKKI page 107 done\n",
            "LEKKI page 108 done\n",
            "LEKKI page 109 done\n",
            "LEKKI page 110 done\n",
            "LEKKI page 111 done\n",
            "LEKKI page 112 done\n",
            "LEKKI page 113 done\n",
            "LEKKI page 114 done\n",
            "LEKKI page 115 done\n",
            "LEKKI page 116 done\n",
            "LEKKI page 117 done\n",
            "LEKKI page 118 done\n",
            "LEKKI page 119 done\n",
            "LEKKI page 120 done\n",
            "LEKKI page 121 done\n",
            "LEKKI page 122 done\n",
            "LEKKI page 123 done\n",
            "LEKKI page 124 done\n",
            "LEKKI page 125 done\n",
            "LEKKI page 126 done\n",
            "LEKKI page 127 done\n",
            "LEKKI page 128 done\n",
            "LEKKI page 129 done\n",
            "LEKKI page 130 done\n",
            "LEKKI page 131 done\n",
            "LEKKI page 132 done\n",
            "LEKKI page 133 done\n",
            "LEKKI page 134 done\n",
            "\n",
            "\n",
            "AJAH has 29 pages\n",
            "AJAH page 1 done\n",
            "AJAH page 2 done\n",
            "AJAH page 3 done\n",
            "AJAH page 4 done\n",
            "AJAH page 5 done\n",
            "AJAH page 6 done\n",
            "AJAH page 7 done\n",
            "AJAH page 8 done\n",
            "AJAH page 9 done\n",
            "AJAH page 10 done\n",
            "AJAH page 11 done\n",
            "AJAH page 12 done\n",
            "AJAH page 13 done\n",
            "AJAH page 14 done\n",
            "AJAH page 15 done\n",
            "AJAH page 16 done\n",
            "AJAH page 17 done\n",
            "AJAH page 18 done\n",
            "AJAH page 19 done\n",
            "AJAH page 20 done\n",
            "AJAH page 21 done\n",
            "AJAH page 22 done\n",
            "AJAH page 23 done\n",
            "AJAH page 24 done\n",
            "AJAH page 25 done\n",
            "AJAH page 26 done\n",
            "AJAH page 27 done\n",
            "AJAH page 28 done\n",
            "AJAH page 29 done\n",
            "\n",
            "\n",
            "IKORODU has 8 pages\n",
            "IKORODU page 1 done\n",
            "IKORODU page 2 done\n",
            "IKORODU page 3 done\n",
            "IKORODU page 4 done\n",
            "IKORODU page 5 done\n",
            "IKORODU page 6 done\n",
            "IKORODU page 7 done\n",
            "IKORODU page 8 done\n"
          ]
        }
      ]
    },
    {
      "cell_type": "code",
      "metadata": {
        "scrolled": true,
        "id": "scQ-Pi6Rb-8-"
      },
      "source": [
        "#converting data to a pandas dataframe\n",
        "output_df = pd.DataFrame(output_dict)"
      ],
      "execution_count": 13,
      "outputs": []
    },
    {
      "cell_type": "code",
      "metadata": {
        "colab": {
          "base_uri": "https://localhost:8080/",
          "height": 190
        },
        "id": "LO8gfaySb-9B",
        "outputId": "939d0248-42f0-4634-e25b-ca726ed723ee"
      },
      "source": [
        "output_df.describe()"
      ],
      "execution_count": 19,
      "outputs": [
        {
          "output_type": "execute_result",
          "data": {
            "text/html": [
              "<div>\n",
              "<style scoped>\n",
              "    .dataframe tbody tr th:only-of-type {\n",
              "        vertical-align: middle;\n",
              "    }\n",
              "\n",
              "    .dataframe tbody tr th {\n",
              "        vertical-align: top;\n",
              "    }\n",
              "\n",
              "    .dataframe thead th {\n",
              "        text-align: right;\n",
              "    }\n",
              "</style>\n",
              "<table border=\"1\" class=\"dataframe\">\n",
              "  <thead>\n",
              "    <tr style=\"text-align: right;\">\n",
              "      <th></th>\n",
              "      <th>title</th>\n",
              "      <th>location</th>\n",
              "      <th>desc</th>\n",
              "      <th>price</th>\n",
              "      <th>bath</th>\n",
              "      <th>bed</th>\n",
              "      <th>toilet</th>\n",
              "      <th>area</th>\n",
              "    </tr>\n",
              "  </thead>\n",
              "  <tbody>\n",
              "    <tr>\n",
              "      <th>count</th>\n",
              "      <td>4744</td>\n",
              "      <td>4744</td>\n",
              "      <td>4744</td>\n",
              "      <td>4744</td>\n",
              "      <td>4744</td>\n",
              "      <td>4744</td>\n",
              "      <td>4744</td>\n",
              "      <td>4744</td>\n",
              "    </tr>\n",
              "    <tr>\n",
              "      <th>unique</th>\n",
              "      <td>99</td>\n",
              "      <td>1949</td>\n",
              "      <td>4250</td>\n",
              "      <td>194</td>\n",
              "      <td>11</td>\n",
              "      <td>11</td>\n",
              "      <td>11</td>\n",
              "      <td>9</td>\n",
              "    </tr>\n",
              "    <tr>\n",
              "      <th>top</th>\n",
              "      <td>3 bedroom flat / apartment for rent</td>\n",
              "      <td>Lekki Phase 1, Lekki, Lagos</td>\n",
              "      <td>Luxury apartments with 24 hours hotel services...</td>\n",
              "      <td>3000000</td>\n",
              "      <td></td>\n",
              "      <td></td>\n",
              "      <td></td>\n",
              "      <td>lekki</td>\n",
              "    </tr>\n",
              "    <tr>\n",
              "      <th>freq</th>\n",
              "      <td>774</td>\n",
              "      <td>664</td>\n",
              "      <td>135</td>\n",
              "      <td>366</td>\n",
              "      <td>1743</td>\n",
              "      <td>1605</td>\n",
              "      <td>1381</td>\n",
              "      <td>2814</td>\n",
              "    </tr>\n",
              "  </tbody>\n",
              "</table>\n",
              "</div>"
            ],
            "text/plain": [
              "                                      title  ...   area\n",
              "count                                  4744  ...   4744\n",
              "unique                                   99  ...      9\n",
              "top     3 bedroom flat / apartment for rent  ...  lekki\n",
              "freq                                    774  ...   2814\n",
              "\n",
              "[4 rows x 8 columns]"
            ]
          },
          "metadata": {},
          "execution_count": 19
        }
      ]
    },
    {
      "cell_type": "code",
      "metadata": {
        "colab": {
          "base_uri": "https://localhost:8080/"
        },
        "id": "cCuRbv59b-9D",
        "outputId": "96fe31d4-4784-4f64-fdf0-0e05350661dd"
      },
      "source": [
        "output_df.shape"
      ],
      "execution_count": 16,
      "outputs": [
        {
          "output_type": "execute_result",
          "data": {
            "text/plain": [
              "(4744, 8)"
            ]
          },
          "metadata": {},
          "execution_count": 16
        }
      ]
    },
    {
      "cell_type": "code",
      "metadata": {
        "id": "Xi58rZTKb-9F"
      },
      "source": [
        "#save dtaframe as csv\n",
        "output_df.to_csv(\"house_data.csv\",index=False)"
      ],
      "execution_count": 20,
      "outputs": []
    },
    {
      "cell_type": "code",
      "metadata": {
        "id": "6ABZ6J6kb-9G"
      },
      "source": [
        ""
      ],
      "execution_count": null,
      "outputs": []
    },
    {
      "cell_type": "code",
      "metadata": {
        "id": "dkGsTkL2b-9H"
      },
      "source": [
        ""
      ],
      "execution_count": null,
      "outputs": []
    },
    {
      "cell_type": "markdown",
      "metadata": {
        "id": "ORdqgPKRb-9I"
      },
      "source": [
        "# WORK AREA"
      ]
    },
    {
      "cell_type": "code",
      "metadata": {
        "id": "LyZbqsQTb-9J"
      },
      "source": [
        "aaa = soup.find_all(\"ul\", {\"class\":\"aux-info\"})"
      ],
      "execution_count": null,
      "outputs": []
    },
    {
      "cell_type": "code",
      "metadata": {
        "id": "iySN8Dm3b-9K",
        "outputId": "45b4ce38-b36b-4bb8-92f5-e667a120b751"
      },
      "source": [
        "aaa[0].text"
      ],
      "execution_count": null,
      "outputs": [
        {
          "data": {
            "text/plain": [
              "'7 Bathrooms7 Toilets35 Parking Spaces6,284 sqm Total Area Save'"
            ]
          },
          "execution_count": 252,
          "metadata": {},
          "output_type": "execute_result"
        }
      ]
    },
    {
      "cell_type": "code",
      "metadata": {
        "id": "t1-ZaF9sb-9M",
        "outputId": "ebb902c0-5bc5-4563-eab8-c0e3fb82132e"
      },
      "source": [
        "re.findall(\"..Bathrooms\", aaa[0].text)[0]"
      ],
      "execution_count": null,
      "outputs": [
        {
          "data": {
            "text/plain": [
              "'7 Bathrooms'"
            ]
          },
          "execution_count": 254,
          "metadata": {},
          "output_type": "execute_result"
        }
      ]
    },
    {
      "cell_type": "code",
      "metadata": {
        "id": "1VJrwOdxb-9O",
        "outputId": "f685b4ca-d99f-451a-9fb9-cd801b41b4a4"
      },
      "source": [
        "aaa[0].text.strip().split(\" \")[0].replace(\"₦\",\"\").replace(\",\",\"\")"
      ],
      "execution_count": null,
      "outputs": [
        {
          "data": {
            "text/plain": [
              "'55000'"
            ]
          },
          "execution_count": 196,
          "metadata": {},
          "output_type": "execute_result"
        }
      ]
    },
    {
      "cell_type": "code",
      "metadata": {
        "id": "NEeFnpjab-9P"
      },
      "source": [
        "eee = '7 Bathrooms7 Toilets5 Parking Spaces6,284 sqm Total Area Save'"
      ],
      "execution_count": null,
      "outputs": []
    },
    {
      "cell_type": "code",
      "metadata": {
        "id": "_h7uUaIGb-9Q",
        "outputId": "5541232b-a4a6-42d2-9d34-8cd2ee49cd9b"
      },
      "source": [
        "re.findall(\"..Parking Spaces\", eee)"
      ],
      "execution_count": null,
      "outputs": [
        {
          "data": {
            "text/plain": [
              "['5 Parking Spaces']"
            ]
          },
          "execution_count": 235,
          "metadata": {},
          "output_type": "execute_result"
        }
      ]
    },
    {
      "cell_type": "code",
      "metadata": {
        "id": "t1F3iED7b-9R"
      },
      "source": [
        ""
      ],
      "execution_count": null,
      "outputs": []
    }
  ]
}